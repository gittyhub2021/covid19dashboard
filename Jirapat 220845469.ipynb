{
 "cells": [
  {
   "cell_type": "markdown",
   "metadata": {},
   "source": [
    "[DIY Covid-19 Dashboard Kit](https://github.com/fsmeraldi/diy-covid19dash) (C) Fabrizio Smeraldi, 2020 ([f.smeraldi@qmul.ac.uk](mailto:f.smeraldi@qmul.ac.uk) - [web](http://www.eecs.qmul.ac.uk/~fabri/)). All rights reserved."
   ]
  },
  {
   "cell_type": "markdown",
   "metadata": {},
   "source": [
    "**Author and Copyright Notice** *Based on UK Government [data](https://coronavirus.data.gov.uk/) published by [Public Health England](https://www.gov.uk/government/organisations/public-health-england).*"
   ]
  },
  {
   "cell_type": "code",
   "execution_count": 2,
   "metadata": {},
   "outputs": [],
   "source": [
    "# library import\n",
    "from IPython.display import clear_output\n",
    "import ipywidgets as wdg\n",
    "import pandas as pd\n",
    "import numpy as np\n",
    "import matplotlib.pyplot as plt\n",
    "import json\n",
    "from uk_covid19 import Cov19API"
   ]
  },
  {
   "cell_type": "code",
   "execution_count": 3,
   "metadata": {},
   "outputs": [],
   "source": [
    "%matplotlib inline\n",
    "# make figures larger\n",
    "plt.rcParams['figure.dpi'] = 100"
   ]
  },
  {
   "cell_type": "code",
   "execution_count": 4,
   "metadata": {},
   "outputs": [],
   "source": [
    "# Load initial json file\n",
    "with open('timeseries.json','r') as f:\n",
    "    data = json.loads(f.read())"
   ]
  },
  {
   "cell_type": "code",
   "execution_count": 6,
   "metadata": {},
   "outputs": [
    {
     "name": "stdout",
     "output_type": "stream",
     "text": [
      "            date  cases  hospital\n",
      "0     2020-01-31      2       0.0\n",
      "1     2020-02-01      0       0.0\n",
      "2     2020-02-02      0       0.0\n",
      "3     2020-02-03      0       0.0\n",
      "4     2020-02-04      0       0.0\n",
      "...          ...    ...       ...\n",
      "1024  2022-11-20      0     434.0\n",
      "1025  2022-11-21      0     503.0\n",
      "1026  2022-11-22      0       0.0\n",
      "1027  2022-11-23      0       0.0\n",
      "1028  2022-11-24  20261       0.0\n",
      "\n",
      "[1029 rows x 3 columns]\n"
     ]
    }
   ],
   "source": [
    "# Reformat (Wrangle) data into a more workble format\n",
    "def wrangle_data(data):\n",
    "    \n",
    "    df = pd.json_normalize(data, record_path =['data'])\n",
    " \n",
    "    # Reverse order of data (Start with the oldest one)\n",
    "    df = df.loc[::-1].reset_index(drop=True)\n",
    "    # Fill in NAN value with 0.0\n",
    "    df.fillna(0.0, inplace=True)\n",
    "    \n",
    "    return df\n",
    "\n",
    "df = wrangle_data(data)"
   ]
  },
  {
   "cell_type": "code",
   "execution_count": 12,
   "metadata": {},
   "outputs": [],
   "source": [
    "#Download the latest data by accessing the API.\n",
    "def access_api():\n",
    "    \"\"\" Access the PHE API. Return raw data in the same format as data loaded from the \"canned\" JSON file. \"\"\"\n",
    "    england_only = [\n",
    "        'areaType=nation',\n",
    "        'areaName=England'\n",
    "    ]\n",
    "\n",
    "    cases_death_and_vaccin = {\n",
    "        \"date\": \"date\",\n",
    "        \"cases\": \"newCasesByPublishDate\",\n",
    "        \"hospital\": \"newAdmissions\",\n",
    "\n",
    "    }\n",
    "\n",
    "    api = Cov19API(\n",
    "        filters=england_only,\n",
    "        structure=cases_death_and_vaccin,\n",
    "    )\n",
    "\n",
    "    data = api.get_json()\n",
    "    \n",
    "    return data"
   ]
  },
  {
   "cell_type": "code",
   "execution_count": 7,
   "metadata": {},
   "outputs": [
    {
     "data": {
      "application/vnd.jupyter.widget-view+json": {
       "model_id": "f61293a2e12d4b1c9f0a355264b9bbbf",
       "version_major": 2,
       "version_minor": 0
      },
      "text/plain": [
       "Button(description='REFRESH', icon='rotate-right', style=ButtonStyle(), tooltip='Keep calm and carry on')"
      ]
     },
     "metadata": {},
     "output_type": "display_data"
    }
   ],
   "source": [
    "#Set a button to refresh data and redraw the graph\n",
    "def api_button_callback(button):\n",
    "    \"\"\" Button callback - it must take the button as its parameter (unused in this case).\n",
    "    Accesses API, wrangles data, updates global variable df used for plotting. \"\"\"\n",
    "    # Get fresh data from the API. \n",
    "    apidata = access_api()\n",
    "    \n",
    "    # Wrangle the data and overwrite the dataframe for plotting\n",
    "    global df\n",
    "    df = wrangle_data(apidata)\n",
    "    \n",
    "    # Redraw the graph with lastest data access from API\n",
    "    refresh_graph()\n",
    "    \n",
    "    # Change the status of the button\n",
    "    apibutton.icon=\"check\"\n",
    "\n",
    "    \n",
    "apibutton=wdg.Button(\n",
    "    description='REFRESH',\n",
    "    disabled=False,\n",
    "    button_style='',\n",
    "    tooltip=\"Keep calm and carry on\",\n",
    "    icon='rotate-right'\n",
    ")\n",
    "\n",
    "# Register button callback function with the button\n",
    "apibutton.on_click(api_button_callback)\n",
    "\n",
    "display(apibutton)"
   ]
  },
  {
   "cell_type": "markdown",
   "metadata": {},
   "source": [
    "## Comparison of the number of cases with hospital admissions;"
   ]
  },
  {
   "cell_type": "code",
   "execution_count": 8,
   "metadata": {},
   "outputs": [
    {
     "data": {
      "application/vnd.jupyter.widget-view+json": {
       "model_id": "99fc9cae9ecd4037b552278e05f2f913",
       "version_major": 2,
       "version_minor": 0
      },
      "text/plain": [
       "Dropdown(description='Overview: ', options=('cases', 'hospital'), value='cases')"
      ]
     },
     "metadata": {},
     "output_type": "display_data"
    },
    {
     "data": {
      "application/vnd.jupyter.widget-view+json": {
       "model_id": "34efa0d35056420fbed70fa1ef822fa1",
       "version_major": 2,
       "version_minor": 0
      },
      "text/plain": [
       "Output()"
      ]
     },
     "metadata": {},
     "output_type": "display_data"
    }
   ],
   "source": [
    "# Fifth Step: Display the interactive graph\n",
    "def graph(graphcolumns):\n",
    "    plt.plot(df['date'], df[graphcolumns])\n",
    "    plt.xticks(np.arange(50, 1031, 60), rotation=90)\n",
    "    plt.show()\n",
    "    \n",
    "# Make it a drop down    \n",
    "cols = wdg.Dropdown(\n",
    "    options=['cases', 'hospital'],\n",
    "    value='cases',\n",
    "    description='Overview: ',\n",
    "    disabled=False\n",
    ")\n",
    "\n",
    "# Refresh function\n",
    "def refresh_graph():\n",
    "    \"\"\" Change the value of the widget in order to force a redraw of the graph.\"\"\"\n",
    "    current=cols.value\n",
    "    if current==cols.options[0]:\n",
    "        other=cols.options[1]\n",
    "    else:\n",
    "        other=cols.options[0]\n",
    "    cols.value=other\n",
    "    cols.value=current\n",
    "    \n",
    "output = wdg.interactive_output(graph, {'graphcolumns': cols})\n",
    "\n",
    "display(cols, output)"
   ]
  },
  {
   "cell_type": "markdown",
   "metadata": {},
   "source": [
    "**Made by Jirapat Boonmee 220845469**\n",
    "MSc Computing and Information Systems (conversion programme)"
   ]
  },
  {
   "cell_type": "code",
   "execution_count": null,
   "metadata": {},
   "outputs": [],
   "source": []
  }
 ],
 "metadata": {
  "kernelspec": {
   "display_name": "Python 3 (ipykernel)",
   "language": "python",
   "name": "python3"
  },
  "language_info": {
   "codemirror_mode": {
    "name": "ipython",
    "version": 3
   },
   "file_extension": ".py",
   "mimetype": "text/x-python",
   "name": "python",
   "nbconvert_exporter": "python",
   "pygments_lexer": "ipython3",
   "version": "3.10.6"
  }
 },
 "nbformat": 4,
 "nbformat_minor": 4
}
